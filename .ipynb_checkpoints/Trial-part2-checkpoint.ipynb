{
 "cells": [
  {
   "cell_type": "code",
   "execution_count": 13,
   "metadata": {},
   "outputs": [],
   "source": [
    "import keras\n",
    "from keras.models import Sequential\n",
    "from keras.layers import Conv2D, MaxPooling2D, Dense, Flatten, Dropout\n",
    "from keras.optimizers import Adam\n",
    "from keras.callbacks import TensorBoard\n",
    "from keras import backend as K\n",
    "import numpy as np\n",
    "import pandas as pd\n",
    "import matplotlib.pyplot as plt\n",
    "from sklearn.model_selection import train_test_split"
   ]
  },
  {
   "cell_type": "code",
   "execution_count": 3,
   "metadata": {},
   "outputs": [],
   "source": [
    "import pickle\n",
    "f=open(\"trainX.pickle\",\"rb\")\n",
    "images=pickle.load(f)"
   ]
  },
  {
   "cell_type": "code",
   "execution_count": 4,
   "metadata": {},
   "outputs": [],
   "source": [
    "f=open(\"trainY.pickle\",\"rb\")\n",
    "labels = pickle.load(f)"
   ]
  },
  {
   "cell_type": "code",
   "execution_count": 5,
   "metadata": {},
   "outputs": [],
   "source": [
    "from sklearn import model_selection"
   ]
  },
  {
   "cell_type": "code",
   "execution_count": 9,
   "metadata": {},
   "outputs": [],
   "source": [
    "img_rows, img_cols=28,28\n",
    "\n",
    "#the data shuffled and split between train and test sets\n",
    "X_train, X_test, y_train, y_test = model_selection.train_test_split(images, labels)"
   ]
  },
  {
   "cell_type": "code",
   "execution_count": null,
   "metadata": {},
   "outputs": [],
   "source": []
  },
  {
   "cell_type": "code",
   "execution_count": 10,
   "metadata": {},
   "outputs": [
    {
     "data": {
      "image/png": "[encoded data removed]",
      "text/plain": [
       "<Figure size 432x288 with 1 Axes>"
      ]
     },
     "metadata": {},
     "output_type": "display_data"
    }
   ],
   "source": [
    "\n",
    "# lets see what the images look like\n",
    "\n",
    "image = X_train[50, :].reshape((28, 28))\n",
    "\n",
    "plt.imshow(image,cmap='gray')\n",
    "plt.show()"
   ]
  },
  {
   "cell_type": "code",
   "execution_count": 14,
   "metadata": {},
   "outputs": [
    {
     "data": {
      "text/plain": [
       "'channels_last'"
      ]
     },
     "execution_count": 14,
     "metadata": {},
     "output_type": "execute_result"
    }
   ],
   "source": [
    "K.image_data_format()  "
   ]
  },
  {
   "cell_type": "code",
   "execution_count": 15,
   "metadata": {},
   "outputs": [
    {
     "name": "stdout",
     "output_type": "stream",
     "text": [
      "x_train shape: (45000, 28, 28, 1)\n",
      "x_test shape: (15000, 28, 28, 1)\n"
     ]
    }
   ],
   "source": [
    "im_rows = 28\n",
    "im_cols = 28\n",
    "batch_size = 512\n",
    "im_shape = (im_rows, im_cols, 1)    # 28*28*1  grayscale image size\n",
    "\n",
    "#reshaping rows [0]\n",
    "X_train = X_train.reshape(X_train.shape[0], *im_shape)\n",
    "X_test = X_test.reshape(X_test.shape[0], *im_shape)\n",
    "\n",
    "\n",
    "print('x_train shape: {}'.format(X_train.shape))\n",
    "print('x_test shape: {}'.format(X_test.shape))\n"
   ]
  },
  {
   "cell_type": "code",
   "execution_count": null,
   "metadata": {},
   "outputs": [],
   "source": []
  },
  {
   "cell_type": "code",
   "execution_count": 16,
   "metadata": {},
   "outputs": [],
   "source": [
    "cnn_model = Sequential([\n",
    "    Conv2D(filters=32, kernel_size=3, activation='relu', input_shape=im_shape),  #kernel is 3*3\n",
    "    MaxPooling2D(pool_size=2), #downsampling the ouput 2*28 image to (down by factor 2) => 14*14\n",
    "    Dropout(0.2),  # dropout certain connections to next layer\n",
    "    \n",
    "    Flatten(),\n",
    "    Dense(32, activation='relu'),\n",
    "    Dense(10, activation='softmax')   #activation for putput layer \n",
    "])"
   ]
  },
  {
   "cell_type": "code",
   "execution_count": 17,
   "metadata": {},
   "outputs": [
    {
     "name": "stdout",
     "output_type": "stream",
     "text": [
      "_________________________________________________________________\n",
      "Layer (type)                 Output Shape              Param #   \n",
      "=================================================================\n",
      "conv2d_2 (Conv2D)            (None, 26, 26, 32)        320       \n",
      "_________________________________________________________________\n",
      "max_pooling2d_2 (MaxPooling2 (None, 13, 13, 32)        0         \n",
      "_________________________________________________________________\n",
      "dropout_2 (Dropout)          (None, 13, 13, 32)        0         \n",
      "_________________________________________________________________\n",
      "flatten_2 (Flatten)          (None, 5408)              0         \n",
      "_________________________________________________________________\n",
      "dense_3 (Dense)              (None, 32)                173088    \n",
      "_________________________________________________________________\n",
      "dense_4 (Dense)              (None, 10)                330       \n",
      "=================================================================\n",
      "Total params: 173,738\n",
      "Trainable params: 173,738\n",
      "Non-trainable params: 0\n",
      "_________________________________________________________________\n"
     ]
    }
   ],
   "source": [
    "cnn_model.summary()"
   ]
  },
  {
   "cell_type": "code",
   "execution_count": null,
   "metadata": {},
   "outputs": [],
   "source": []
  },
  {
   "cell_type": "code",
   "execution_count": 19,
   "metadata": {},
   "outputs": [],
   "source": [
    "# created folder logs  for callbacks \n",
    "tensorboard = TensorBoard(\n",
    "    log_dir=r'LOGS\\{}'.format('cnn_1layer'),\n",
    "    #making graphs in tensorboard\n",
    "    write_graph=True,\n",
    "    write_grads=True,\n",
    "    histogram_freq=1,\n",
    "    #actual ouput for each layer is image\n",
    "    write_images=True,\n",
    ")\n",
    "\n",
    "cnn_model.compile(\n",
    "    loss='sparse_categorical_crossentropy',\n",
    "    optimizer=Adam(lr=0.001),  #learning rate (lr)\n",
    "    metrics=['accuracy']  # we need to maximize accuracy\n",
    ")"
   ]
  },
  {
   "cell_type": "code",
   "execution_count": 20,
   "metadata": {},
   "outputs": [
    {
     "name": "stderr",
     "output_type": "stream",
     "text": [
      "W0623 19:12:57.771374 21228 deprecation.py:323] From C:\\Users\\Meenakshi Sharma\\AppData\\Roaming\\Python\\Python36\\site-packages\\tensorflow\\python\\ops\\math_grad.py:1250: add_dispatch_support.<locals>.wrapper (from tensorflow.python.ops.array_ops) is deprecated and will be removed in a future version.\n",
      "Instructions for updating:\n",
      "Use tf.where in 2.0, which has the same broadcast rule as np.where\n"
     ]
    },
    {
     "name": "stdout",
     "output_type": "stream",
     "text": [
      "Train on 45000 samples, validate on 15000 samples\n",
      "Epoch 1/20\n",
      "45000/45000 [==============================] - 23s 510us/step - loss: 8.7527 - acc: 0.4524 - val_loss: 8.3746 - val_acc: 0.4781\n",
      "Epoch 2/20\n",
      "45000/45000 [==============================] - 22s 495us/step - loss: 8.2590 - acc: 0.4852 - val_loss: 8.2759 - val_acc: 0.4845\n",
      "Epoch 3/20\n",
      "45000/45000 [==============================] - 22s 496us/step - loss: 5.2436 - acc: 0.5986 - val_loss: 0.4565 - val_acc: 0.8398\n",
      "Epoch 4/20\n",
      "45000/45000 [==============================] - 22s 479us/step - loss: 0.3911 - acc: 0.8606 - val_loss: 0.3401 - val_acc: 0.8764\n",
      "Epoch 5/20\n",
      "45000/45000 [==============================] - 23s 517us/step - loss: 0.3024 - acc: 0.8882 - val_loss: 0.3270 - val_acc: 0.8857\n",
      "Epoch 6/20\n",
      "45000/45000 [==============================] - 22s 500us/step - loss: 0.2708 - acc: 0.8996 - val_loss: 0.3083 - val_acc: 0.8904\n",
      "Epoch 7/20\n",
      "45000/45000 [==============================] - 22s 486us/step - loss: 0.2465 - acc: 0.9078 - val_loss: 0.3165 - val_acc: 0.8865\n",
      "Epoch 8/20\n",
      "45000/45000 [==============================] - 22s 492us/step - loss: 0.2294 - acc: 0.9134 - val_loss: 0.3272 - val_acc: 0.8878\n",
      "Epoch 9/20\n",
      "45000/45000 [==============================] - 22s 490us/step - loss: 0.2112 - acc: 0.9197 - val_loss: 0.3191 - val_acc: 0.8948\n",
      "Epoch 10/20\n",
      "45000/45000 [==============================] - 22s 484us/step - loss: 0.1995 - acc: 0.9244 - val_loss: 0.3167 - val_acc: 0.8961\n",
      "Epoch 11/20\n",
      "45000/45000 [==============================] - 23s 506us/step - loss: 0.1881 - acc: 0.9278 - val_loss: 0.3248 - val_acc: 0.8927\n",
      "Epoch 12/20\n",
      "45000/45000 [==============================] - 22s 494us/step - loss: 0.1772 - acc: 0.9323 - val_loss: 0.3370 - val_acc: 0.8961\n",
      "Epoch 13/20\n",
      "45000/45000 [==============================] - 22s 487us/step - loss: 0.1731 - acc: 0.9339 - val_loss: 0.3376 - val_acc: 0.8945\n",
      "Epoch 14/20\n",
      "45000/45000 [==============================] - 23s 517us/step - loss: 0.1657 - acc: 0.9361 - val_loss: 0.3350 - val_acc: 0.8997\n",
      "Epoch 15/20\n",
      "45000/45000 [==============================] - 22s 493us/step - loss: 0.1560 - acc: 0.9395 - val_loss: 0.3545 - val_acc: 0.8968\n",
      "Epoch 16/20\n",
      "45000/45000 [==============================] - 23s 501us/step - loss: 0.1511 - acc: 0.9419 - val_loss: 0.3656 - val_acc: 0.8967\n",
      "Epoch 17/20\n",
      "45000/45000 [==============================] - 23s 509us/step - loss: 0.1417 - acc: 0.9462 - val_loss: 0.3845 - val_acc: 0.8963\n",
      "Epoch 18/20\n",
      "45000/45000 [==============================] - 22s 495us/step - loss: 0.1412 - acc: 0.9458 - val_loss: 0.3901 - val_acc: 0.8954\n",
      "Epoch 19/20\n",
      "45000/45000 [==============================] - 23s 500us/step - loss: 0.1380 - acc: 0.9475 - val_loss: 0.3770 - val_acc: 0.8993376 - acc:\n",
      "Epoch 20/20\n",
      "45000/45000 [==============================] - 23s 500us/step - loss: 0.1302 - acc: 0.9502 - val_loss: 0.4079 - val_acc: 0.8972\n"
     ]
    }
   ],
   "source": [
    "train_model = cnn_model.fit(X_train, y_train,\n",
    "                  batch_size=128,\n",
    "                  epochs=20,\n",
    "                  verbose=1,\n",
    "                  validation_data=(X_test, y_test))"
   ]
  },
  {
   "cell_type": "code",
   "execution_count": 21,
   "metadata": {},
   "outputs": [
    {
     "name": "stdout",
     "output_type": "stream",
     "text": [
      "test loss: 0.4079\n",
      " test acc: 0.8972\n"
     ]
    }
   ],
   "source": [
    "score = cnn_model.evaluate(X_test, y_test, verbose=0)\n",
    "\n",
    "print('test loss: {:.4f}'.format(score[0]))\n",
    "print(' test acc: {:.4f}'.format(score[1]))"
   ]
  },
  {
   "cell_type": "code",
   "execution_count": 22,
   "metadata": {},
   "outputs": [],
   "source": [
    "predicted_classes = cnn_model.predict_classes(X_test)\n",
    "#get the indices to be plotted\n",
    "y_true = y_test"
   ]
  },
  {
   "cell_type": "code",
   "execution_count": null,
   "metadata": {},
   "outputs": [],
   "source": []
  },
  {
   "cell_type": "code",
   "execution_count": 23,
   "metadata": {},
   "outputs": [],
   "source": [
    "trues=pd.DataFrame(y_true==predicted_classes)"
   ]
  },
  {
   "cell_type": "code",
   "execution_count": 15,
   "metadata": {},
   "outputs": [
    {
     "data": {
      "text/plain": [
       "True     13462\n",
       "False     1538\n",
       "Name: 0, dtype: int64"
      ]
     },
     "execution_count": 15,
     "metadata": {},
     "output_type": "execute_result"
    }
   ],
   "source": [
    "trues[0].value_counts()"
   ]
  },
  {
   "cell_type": "code",
   "execution_count": 24,
   "metadata": {},
   "outputs": [
    {
     "data": {
      "text/plain": [
       "True     13458\n",
       "False     1542\n",
       "Name: 0, dtype: int64"
      ]
     },
     "execution_count": 24,
     "metadata": {},
     "output_type": "execute_result"
    }
   ],
   "source": []
  },
  {
   "cell_type": "code",
   "execution_count": 25,
   "metadata": {},
   "outputs": [],
   "source": [
    "trues['true']=y_true\n",
    "trues['predicted']=predicted_classes"
   ]
  },
  {
   "cell_type": "code",
   "execution_count": 27,
   "metadata": {},
   "outputs": [
    {
     "data": {
      "text/html": [
       "<div>\n",
       "<style scoped>\n",
       "    .dataframe tbody tr th:only-of-type {\n",
       "        vertical-align: middle;\n",
       "    }\n",
       "\n",
       "    .dataframe tbody tr th {\n",
       "        vertical-align: top;\n",
       "    }\n",
       "\n",
       "    .dataframe thead th {\n",
       "        text-align: right;\n",
       "    }\n",
       "</style>\n",
       "<table border=\"1\" class=\"dataframe\">\n",
       "  <thead>\n",
       "    <tr style=\"text-align: right;\">\n",
       "      <th></th>\n",
       "      <th>0</th>\n",
       "      <th>true</th>\n",
       "      <th>predicted</th>\n",
       "    </tr>\n",
       "  </thead>\n",
       "  <tbody>\n",
       "    <tr>\n",
       "      <th>7</th>\n",
       "      <td>False</td>\n",
       "      <td>3</td>\n",
       "      <td>0</td>\n",
       "    </tr>\n",
       "    <tr>\n",
       "      <th>8</th>\n",
       "      <td>False</td>\n",
       "      <td>0</td>\n",
       "      <td>2</td>\n",
       "    </tr>\n",
       "    <tr>\n",
       "      <th>9</th>\n",
       "      <td>False</td>\n",
       "      <td>0</td>\n",
       "      <td>1</td>\n",
       "    </tr>\n",
       "    <tr>\n",
       "      <th>58</th>\n",
       "      <td>False</td>\n",
       "      <td>6</td>\n",
       "      <td>4</td>\n",
       "    </tr>\n",
       "    <tr>\n",
       "      <th>69</th>\n",
       "      <td>False</td>\n",
       "      <td>2</td>\n",
       "      <td>4</td>\n",
       "    </tr>\n",
       "    <tr>\n",
       "      <th>77</th>\n",
       "      <td>False</td>\n",
       "      <td>1</td>\n",
       "      <td>2</td>\n",
       "    </tr>\n",
       "    <tr>\n",
       "      <th>80</th>\n",
       "      <td>False</td>\n",
       "      <td>6</td>\n",
       "      <td>4</td>\n",
       "    </tr>\n",
       "    <tr>\n",
       "      <th>95</th>\n",
       "      <td>False</td>\n",
       "      <td>6</td>\n",
       "      <td>1</td>\n",
       "    </tr>\n",
       "    <tr>\n",
       "      <th>112</th>\n",
       "      <td>False</td>\n",
       "      <td>4</td>\n",
       "      <td>3</td>\n",
       "    </tr>\n",
       "    <tr>\n",
       "      <th>116</th>\n",
       "      <td>False</td>\n",
       "      <td>4</td>\n",
       "      <td>6</td>\n",
       "    </tr>\n",
       "    <tr>\n",
       "      <th>118</th>\n",
       "      <td>False</td>\n",
       "      <td>6</td>\n",
       "      <td>4</td>\n",
       "    </tr>\n",
       "    <tr>\n",
       "      <th>121</th>\n",
       "      <td>False</td>\n",
       "      <td>0</td>\n",
       "      <td>6</td>\n",
       "    </tr>\n",
       "    <tr>\n",
       "      <th>128</th>\n",
       "      <td>False</td>\n",
       "      <td>3</td>\n",
       "      <td>0</td>\n",
       "    </tr>\n",
       "    <tr>\n",
       "      <th>135</th>\n",
       "      <td>False</td>\n",
       "      <td>5</td>\n",
       "      <td>9</td>\n",
       "    </tr>\n",
       "    <tr>\n",
       "      <th>146</th>\n",
       "      <td>False</td>\n",
       "      <td>0</td>\n",
       "      <td>2</td>\n",
       "    </tr>\n",
       "    <tr>\n",
       "      <th>157</th>\n",
       "      <td>False</td>\n",
       "      <td>6</td>\n",
       "      <td>0</td>\n",
       "    </tr>\n",
       "    <tr>\n",
       "      <th>161</th>\n",
       "      <td>False</td>\n",
       "      <td>0</td>\n",
       "      <td>6</td>\n",
       "    </tr>\n",
       "    <tr>\n",
       "      <th>174</th>\n",
       "      <td>False</td>\n",
       "      <td>2</td>\n",
       "      <td>6</td>\n",
       "    </tr>\n",
       "    <tr>\n",
       "      <th>176</th>\n",
       "      <td>False</td>\n",
       "      <td>8</td>\n",
       "      <td>2</td>\n",
       "    </tr>\n",
       "    <tr>\n",
       "      <th>182</th>\n",
       "      <td>False</td>\n",
       "      <td>6</td>\n",
       "      <td>0</td>\n",
       "    </tr>\n",
       "    <tr>\n",
       "      <th>185</th>\n",
       "      <td>False</td>\n",
       "      <td>2</td>\n",
       "      <td>6</td>\n",
       "    </tr>\n",
       "    <tr>\n",
       "      <th>192</th>\n",
       "      <td>False</td>\n",
       "      <td>0</td>\n",
       "      <td>3</td>\n",
       "    </tr>\n",
       "    <tr>\n",
       "      <th>202</th>\n",
       "      <td>False</td>\n",
       "      <td>6</td>\n",
       "      <td>0</td>\n",
       "    </tr>\n",
       "    <tr>\n",
       "      <th>207</th>\n",
       "      <td>False</td>\n",
       "      <td>2</td>\n",
       "      <td>4</td>\n",
       "    </tr>\n",
       "    <tr>\n",
       "      <th>210</th>\n",
       "      <td>False</td>\n",
       "      <td>6</td>\n",
       "      <td>3</td>\n",
       "    </tr>\n",
       "    <tr>\n",
       "      <th>217</th>\n",
       "      <td>False</td>\n",
       "      <td>0</td>\n",
       "      <td>6</td>\n",
       "    </tr>\n",
       "    <tr>\n",
       "      <th>223</th>\n",
       "      <td>False</td>\n",
       "      <td>2</td>\n",
       "      <td>4</td>\n",
       "    </tr>\n",
       "    <tr>\n",
       "      <th>230</th>\n",
       "      <td>False</td>\n",
       "      <td>6</td>\n",
       "      <td>0</td>\n",
       "    </tr>\n",
       "    <tr>\n",
       "      <th>232</th>\n",
       "      <td>False</td>\n",
       "      <td>4</td>\n",
       "      <td>2</td>\n",
       "    </tr>\n",
       "    <tr>\n",
       "      <th>238</th>\n",
       "      <td>False</td>\n",
       "      <td>2</td>\n",
       "      <td>4</td>\n",
       "    </tr>\n",
       "    <tr>\n",
       "      <th>...</th>\n",
       "      <td>...</td>\n",
       "      <td>...</td>\n",
       "      <td>...</td>\n",
       "    </tr>\n",
       "    <tr>\n",
       "      <th>14766</th>\n",
       "      <td>False</td>\n",
       "      <td>6</td>\n",
       "      <td>4</td>\n",
       "    </tr>\n",
       "    <tr>\n",
       "      <th>14768</th>\n",
       "      <td>False</td>\n",
       "      <td>0</td>\n",
       "      <td>6</td>\n",
       "    </tr>\n",
       "    <tr>\n",
       "      <th>14773</th>\n",
       "      <td>False</td>\n",
       "      <td>7</td>\n",
       "      <td>9</td>\n",
       "    </tr>\n",
       "    <tr>\n",
       "      <th>14778</th>\n",
       "      <td>False</td>\n",
       "      <td>2</td>\n",
       "      <td>6</td>\n",
       "    </tr>\n",
       "    <tr>\n",
       "      <th>14780</th>\n",
       "      <td>False</td>\n",
       "      <td>6</td>\n",
       "      <td>0</td>\n",
       "    </tr>\n",
       "    <tr>\n",
       "      <th>14794</th>\n",
       "      <td>False</td>\n",
       "      <td>5</td>\n",
       "      <td>7</td>\n",
       "    </tr>\n",
       "    <tr>\n",
       "      <th>14804</th>\n",
       "      <td>False</td>\n",
       "      <td>6</td>\n",
       "      <td>0</td>\n",
       "    </tr>\n",
       "    <tr>\n",
       "      <th>14805</th>\n",
       "      <td>False</td>\n",
       "      <td>2</td>\n",
       "      <td>4</td>\n",
       "    </tr>\n",
       "    <tr>\n",
       "      <th>14818</th>\n",
       "      <td>False</td>\n",
       "      <td>0</td>\n",
       "      <td>3</td>\n",
       "    </tr>\n",
       "    <tr>\n",
       "      <th>14820</th>\n",
       "      <td>False</td>\n",
       "      <td>0</td>\n",
       "      <td>6</td>\n",
       "    </tr>\n",
       "    <tr>\n",
       "      <th>14824</th>\n",
       "      <td>False</td>\n",
       "      <td>7</td>\n",
       "      <td>9</td>\n",
       "    </tr>\n",
       "    <tr>\n",
       "      <th>14827</th>\n",
       "      <td>False</td>\n",
       "      <td>7</td>\n",
       "      <td>9</td>\n",
       "    </tr>\n",
       "    <tr>\n",
       "      <th>14830</th>\n",
       "      <td>False</td>\n",
       "      <td>3</td>\n",
       "      <td>4</td>\n",
       "    </tr>\n",
       "    <tr>\n",
       "      <th>14845</th>\n",
       "      <td>False</td>\n",
       "      <td>0</td>\n",
       "      <td>6</td>\n",
       "    </tr>\n",
       "    <tr>\n",
       "      <th>14849</th>\n",
       "      <td>False</td>\n",
       "      <td>7</td>\n",
       "      <td>9</td>\n",
       "    </tr>\n",
       "    <tr>\n",
       "      <th>14854</th>\n",
       "      <td>False</td>\n",
       "      <td>3</td>\n",
       "      <td>0</td>\n",
       "    </tr>\n",
       "    <tr>\n",
       "      <th>14857</th>\n",
       "      <td>False</td>\n",
       "      <td>6</td>\n",
       "      <td>0</td>\n",
       "    </tr>\n",
       "    <tr>\n",
       "      <th>14883</th>\n",
       "      <td>False</td>\n",
       "      <td>6</td>\n",
       "      <td>0</td>\n",
       "    </tr>\n",
       "    <tr>\n",
       "      <th>14884</th>\n",
       "      <td>False</td>\n",
       "      <td>2</td>\n",
       "      <td>6</td>\n",
       "    </tr>\n",
       "    <tr>\n",
       "      <th>14885</th>\n",
       "      <td>False</td>\n",
       "      <td>8</td>\n",
       "      <td>0</td>\n",
       "    </tr>\n",
       "    <tr>\n",
       "      <th>14886</th>\n",
       "      <td>False</td>\n",
       "      <td>6</td>\n",
       "      <td>2</td>\n",
       "    </tr>\n",
       "    <tr>\n",
       "      <th>14891</th>\n",
       "      <td>False</td>\n",
       "      <td>2</td>\n",
       "      <td>1</td>\n",
       "    </tr>\n",
       "    <tr>\n",
       "      <th>14892</th>\n",
       "      <td>False</td>\n",
       "      <td>2</td>\n",
       "      <td>6</td>\n",
       "    </tr>\n",
       "    <tr>\n",
       "      <th>14906</th>\n",
       "      <td>False</td>\n",
       "      <td>2</td>\n",
       "      <td>6</td>\n",
       "    </tr>\n",
       "    <tr>\n",
       "      <th>14913</th>\n",
       "      <td>False</td>\n",
       "      <td>4</td>\n",
       "      <td>6</td>\n",
       "    </tr>\n",
       "    <tr>\n",
       "      <th>14933</th>\n",
       "      <td>False</td>\n",
       "      <td>6</td>\n",
       "      <td>0</td>\n",
       "    </tr>\n",
       "    <tr>\n",
       "      <th>14941</th>\n",
       "      <td>False</td>\n",
       "      <td>2</td>\n",
       "      <td>6</td>\n",
       "    </tr>\n",
       "    <tr>\n",
       "      <th>14943</th>\n",
       "      <td>False</td>\n",
       "      <td>0</td>\n",
       "      <td>3</td>\n",
       "    </tr>\n",
       "    <tr>\n",
       "      <th>14948</th>\n",
       "      <td>False</td>\n",
       "      <td>6</td>\n",
       "      <td>3</td>\n",
       "    </tr>\n",
       "    <tr>\n",
       "      <th>14950</th>\n",
       "      <td>False</td>\n",
       "      <td>5</td>\n",
       "      <td>9</td>\n",
       "    </tr>\n",
       "  </tbody>\n",
       "</table>\n",
       "<p>1542 rows × 3 columns</p>\n",
       "</div>"
      ],
      "text/plain": [
       "           0  true  predicted\n",
       "7      False     3          0\n",
       "8      False     0          2\n",
       "9      False     0          1\n",
       "58     False     6          4\n",
       "69     False     2          4\n",
       "77     False     1          2\n",
       "80     False     6          4\n",
       "95     False     6          1\n",
       "112    False     4          3\n",
       "116    False     4          6\n",
       "118    False     6          4\n",
       "121    False     0          6\n",
       "128    False     3          0\n",
       "135    False     5          9\n",
       "146    False     0          2\n",
       "157    False     6          0\n",
       "161    False     0          6\n",
       "174    False     2          6\n",
       "176    False     8          2\n",
       "182    False     6          0\n",
       "185    False     2          6\n",
       "192    False     0          3\n",
       "202    False     6          0\n",
       "207    False     2          4\n",
       "210    False     6          3\n",
       "217    False     0          6\n",
       "223    False     2          4\n",
       "230    False     6          0\n",
       "232    False     4          2\n",
       "238    False     2          4\n",
       "...      ...   ...        ...\n",
       "14766  False     6          4\n",
       "14768  False     0          6\n",
       "14773  False     7          9\n",
       "14778  False     2          6\n",
       "14780  False     6          0\n",
       "14794  False     5          7\n",
       "14804  False     6          0\n",
       "14805  False     2          4\n",
       "14818  False     0          3\n",
       "14820  False     0          6\n",
       "14824  False     7          9\n",
       "14827  False     7          9\n",
       "14830  False     3          4\n",
       "14845  False     0          6\n",
       "14849  False     7          9\n",
       "14854  False     3          0\n",
       "14857  False     6          0\n",
       "14883  False     6          0\n",
       "14884  False     2          6\n",
       "14885  False     8          0\n",
       "14886  False     6          2\n",
       "14891  False     2          1\n",
       "14892  False     2          6\n",
       "14906  False     2          6\n",
       "14913  False     4          6\n",
       "14933  False     6          0\n",
       "14941  False     2          6\n",
       "14943  False     0          3\n",
       "14948  False     6          3\n",
       "14950  False     5          9\n",
       "\n",
       "[1542 rows x 3 columns]"
      ]
     },
     "execution_count": 27,
     "metadata": {},
     "output_type": "execute_result"
    }
   ],
   "source": [
    "trues[trues[0]==False]"
   ]
  },
  {
   "cell_type": "code",
   "execution_count": 28,
   "metadata": {},
   "outputs": [
    {
     "data": {
      "text/plain": [
       "(15000,)"
      ]
     },
     "execution_count": 28,
     "metadata": {},
     "output_type": "execute_result"
    }
   ],
   "source": [
    "y_test.shape\n"
   ]
  },
  {
   "cell_type": "code",
   "execution_count": null,
   "metadata": {},
   "outputs": [],
   "source": [
    "labels = {0 : \"T-shirt/top\", 1: \"Trouser\", 2: \"Pullover\", 3: \"Dress\", 4: \"Coat\",\n",
    "          5: \"Sandal\", 6: \"Shirt\", 7: \"Sneaker\", 8: \"Bag\", 9: \"Ankle Boot\"}"
   ]
  },
  {
   "cell_type": "code",
   "execution_count": 17,
   "metadata": {},
   "outputs": [
    {
     "data": {
      "image/png": "[encoded data removed]",
      "text/plain": [
       "<Figure size 432x288 with 1 Axes>"
      ]
     },
     "metadata": {},
     "output_type": "display_data"
    }
   ],
   "source": [
    "y_train.shape\n",
    "df = pd.DataFrame(y_train)\n",
    "df[0].value_counts().plot(kind='bar')\n",
    "plt.xticks(np.arange(10), ('Shirt', 'Sneaker', 'Coat', 'Ankle Boot', 'Sandal','Pullover','T-shirt/top','Bag','Dress','Trouser'))\n",
    "plt.show()"
   ]
  },
  {
   "cell_type": "code",
   "execution_count": 34,
   "metadata": {},
   "outputs": [
    {
     "data": {
      "text/plain": [
       "predicted\n",
       "0    1547\n",
       "1    1500\n",
       "2    1384\n",
       "3    1427\n",
       "4    1548\n",
       "5    1482\n",
       "6    1597\n",
       "7    1532\n",
       "8    1505\n",
       "9    1478\n",
       "Name: 0, dtype: int64"
      ]
     },
     "execution_count": 34,
     "metadata": {},
     "output_type": "execute_result"
    }
   ],
   "source": [
    "trues.groupby('predicted').count()[0]"
   ]
  },
  {
   "cell_type": "code",
   "execution_count": 35,
   "metadata": {},
   "outputs": [
    {
     "data": {
      "text/plain": [
       "true\n",
       "0    1532\n",
       "1    1512\n",
       "2    1509\n",
       "3    1416\n",
       "4    1455\n",
       "5    1502\n",
       "6    1561\n",
       "7    1516\n",
       "8    1535\n",
       "9    1462\n",
       "Name: 0, dtype: int64"
      ]
     },
     "execution_count": 35,
     "metadata": {},
     "output_type": "execute_result"
    }
   ],
   "source": [
    "trues.groupby('true').count()[0]"
   ]
  },
  {
   "cell_type": "code",
   "execution_count": null,
   "metadata": {},
   "outputs": [],
   "source": []
  },
  {
   "cell_type": "markdown",
   "metadata": {},
   "source": [
    "# performance on actual test data"
   ]
  },
  {
   "cell_type": "code",
   "execution_count": 36,
   "metadata": {},
   "outputs": [],
   "source": [
    "f=open(\"testX.pickle\",\"rb\")\n",
    "test_X = pickle.load(f)"
   ]
  },
  {
   "cell_type": "code",
   "execution_count": null,
   "metadata": {},
   "outputs": [],
   "source": []
  },
  {
   "cell_type": "code",
   "execution_count": 37,
   "metadata": {},
   "outputs": [],
   "source": [
    "X_train=images\n",
    "y_train=labels\n",
    "#predict for test_X"
   ]
  },
  {
   "cell_type": "code",
   "execution_count": 38,
   "metadata": {},
   "outputs": [
    {
     "data": {
      "image/png": "[encoded data removed]",
      "text/plain": [
       "<Figure size 432x288 with 1 Axes>"
      ]
     },
     "metadata": {},
     "output_type": "display_data"
    }
   ],
   "source": [
    "\n",
    "image = X_train[50, :].reshape((28, 28))\n",
    "\n",
    "plt.imshow(image)\n",
    "plt.show()"
   ]
  },
  {
   "cell_type": "code",
   "execution_count": 39,
   "metadata": {},
   "outputs": [
    {
     "name": "stdout",
     "output_type": "stream",
     "text": [
      "x_train shape: (60000, 28, 28, 1)\n",
      "x_test shape: (10000, 28, 28, 1)\n"
     ]
    }
   ],
   "source": [
    "im_rows = 28\n",
    "im_cols = 28\n",
    "batch_size = 512\n",
    "im_shape = (im_rows, im_cols, 1)    # 28*28*1  grayscale image size\n",
    "\n",
    "#reshaping rows [0]\n",
    "X_train = X_train.reshape(X_train.shape[0], *im_shape)\n",
    "test_X= test_X.reshape(test_X.shape[0], *im_shape)\n",
    "\n",
    "\n",
    "print('x_train shape: {}'.format(X_train.shape))\n",
    "print('x_test shape: {}'.format(test_X.shape))\n"
   ]
  },
  {
   "cell_type": "code",
   "execution_count": 40,
   "metadata": {},
   "outputs": [
    {
     "data": {
      "text/plain": [
       "(15000,)"
      ]
     },
     "execution_count": 40,
     "metadata": {},
     "output_type": "execute_result"
    }
   ],
   "source": [
    "y_test.shape"
   ]
  },
  {
   "cell_type": "code",
   "execution_count": 41,
   "metadata": {},
   "outputs": [
    {
     "name": "stdout",
     "output_type": "stream",
     "text": [
      "Epoch 1/20\n",
      "60000/60000 [==============================] - 26s 430us/step - loss: 0.1815 - acc: 0.9420\n",
      "Epoch 2/20\n",
      "60000/60000 [==============================] - 27s 450us/step - loss: 0.1575 - acc: 0.9468\n",
      "Epoch 3/20\n",
      "60000/60000 [==============================] - 26s 430us/step - loss: 0.1427 - acc: 0.9496\n",
      "Epoch 4/20\n",
      "60000/60000 [==============================] - 26s 426us/step - loss: 0.1357 - acc: 0.9513\n",
      "Epoch 5/20\n",
      "60000/60000 [==============================] - 26s 428us/step - loss: 0.1296 - acc: 0.9539\n",
      "Epoch 6/20\n",
      "60000/60000 [==============================] - 25s 424us/step - loss: 0.1242 - acc: 0.9539\n",
      "Epoch 7/20\n",
      "60000/60000 [==============================] - 26s 435us/step - loss: 0.1214 - acc: 0.9551\n",
      "Epoch 8/20\n",
      "60000/60000 [==============================] - 26s 436us/step - loss: 0.1159 - acc: 0.9580\n",
      "Epoch 9/20\n",
      "60000/60000 [==============================] - 26s 431us/step - loss: 0.1140 - acc: 0.9578\n",
      "Epoch 10/20\n",
      "60000/60000 [==============================] - 29s 491us/step - loss: 0.1156 - acc: 0.9574\n",
      "Epoch 11/20\n",
      "60000/60000 [==============================] - 26s 427us/step - loss: 0.1087 - acc: 0.9594\n",
      "Epoch 12/20\n",
      "60000/60000 [==============================] - 25s 423us/step - loss: 0.1077 - acc: 0.9592\n",
      "Epoch 13/20\n",
      "60000/60000 [==============================] - 25s 418us/step - loss: 0.1026 - acc: 0.9613\n",
      "Epoch 14/20\n",
      "60000/60000 [==============================] - 26s 427us/step - loss: 0.1016 - acc: 0.9611\n",
      "Epoch 15/20\n",
      "60000/60000 [==============================] - 25s 422us/step - loss: 0.1004 - acc: 0.9612\n",
      "Epoch 16/20\n",
      "60000/60000 [==============================] - 26s 425us/step - loss: 0.0978 - acc: 0.9628\n",
      "Epoch 17/20\n",
      "60000/60000 [==============================] - 27s 449us/step - loss: 0.0959 - acc: 0.9640\n",
      "Epoch 18/20\n",
      "60000/60000 [==============================] - 26s 427us/step - loss: 0.0966 - acc: 0.9633\n",
      "Epoch 19/20\n",
      "60000/60000 [==============================] - 26s 426us/step - loss: 0.0953 - acc: 0.9645\n",
      "Epoch 20/20\n",
      "60000/60000 [==============================] - 26s 441us/step - loss: 0.0894 - acc: 0.9661\n"
     ]
    },
    {
     "data": {
      "text/plain": [
       "<keras.callbacks.History at 0x1ef88a87f60>"
      ]
     },
     "execution_count": 41,
     "metadata": {},
     "output_type": "execute_result"
    }
   ],
   "source": [
    "cnn_model.fit(\n",
    "    X_train, y_train, batch_size=batch_size,\n",
    "    epochs=20, verbose=1,\n",
    "    #validation_data=(test_X, y_test),\n",
    ")"
   ]
  },
  {
   "cell_type": "code",
   "execution_count": null,
   "metadata": {},
   "outputs": [],
   "source": []
  },
  {
   "cell_type": "code",
   "execution_count": 42,
   "metadata": {},
   "outputs": [],
   "source": [
    "predicted_classes = cnn_model.predict_classes(test_X)\n",
    "#get the indices to be plotted\n",
    "#y_true = y_test\n",
    "#trues=pd.DataFrame(y_true==predicted_classes)\n",
    "#trues[0].value_counts()"
   ]
  },
  {
   "cell_type": "code",
   "execution_count": 46,
   "metadata": {},
   "outputs": [],
   "source": [
    "ytrain = pd.DataFrame(y_train)"
   ]
  },
  {
   "cell_type": "code",
   "execution_count": 49,
   "metadata": {},
   "outputs": [
    {
     "data": {
      "text/plain": [
       "9    6000\n",
       "8    6000\n",
       "7    6000\n",
       "6    6000\n",
       "5    6000\n",
       "4    6000\n",
       "3    6000\n",
       "2    6000\n",
       "1    6000\n",
       "0    6000\n",
       "Name: 0, dtype: int64"
      ]
     },
     "execution_count": 49,
     "metadata": {},
     "output_type": "execute_result"
    }
   ],
   "source": [
    "ytrain[0].value_counts()"
   ]
  },
  {
   "cell_type": "code",
   "execution_count": 43,
   "metadata": {},
   "outputs": [],
   "source": [
    "predResult=pd.DataFrame(predicted_classes) "
   ]
  },
  {
   "cell_type": "code",
   "execution_count": 44,
   "metadata": {},
   "outputs": [
    {
     "data": {
      "text/plain": [
       "4    1054\n",
       "7    1044\n",
       "0    1021\n",
       "6    1009\n",
       "8     998\n",
       "5     990\n",
       "1     987\n",
       "3     985\n",
       "9     968\n",
       "2     944\n",
       "Name: 0, dtype: int64"
      ]
     },
     "execution_count": 44,
     "metadata": {},
     "output_type": "execute_result"
    }
   ],
   "source": [
    "predResult[0].value_counts()"
   ]
  },
  {
   "cell_type": "code",
   "execution_count": 32,
   "metadata": {},
   "outputs": [
    {
     "data": {
      "text/plain": [
       "6    1050\n",
       "1    1009\n",
       "5    1005\n",
       "3    1005\n",
       "9    1004\n",
       "8    1004\n",
       "0    1000\n",
       "7     997\n",
       "4     997\n",
       "2     929\n",
       "Name: 0, dtype: int64"
      ]
     },
     "execution_count": 32,
     "metadata": {},
     "output_type": "execute_result"
    }
   ],
   "source": [
    "predResult[0].value_counts()"
   ]
  },
  {
   "cell_type": "code",
   "execution_count": null,
   "metadata": {},
   "outputs": [],
   "source": [
    "6    1050\n",
    "1    1009\n",
    "5    1005\n",
    "3    1005\n",
    "9    1004\n",
    "8    1004\n",
    "0    1000\n",
    "7     997\n",
    "4     997\n",
    "2     929"
   ]
  },
  {
   "cell_type": "code",
   "execution_count": 51,
   "metadata": {},
   "outputs": [],
   "source": [
    "predResult.to_pickle(\"./answer.pickle\")\n",
    "#saved in 2 extensions: whichever may work\n",
    "predResult.to_pickle(\"./dummy.pkl\")"
   ]
  },
  {
   "cell_type": "code",
   "execution_count": null,
   "metadata": {},
   "outputs": [],
   "source": [
    "from sklearn.metrics import classification_report\n",
    "#target_names = [\"Class {} ({}) :\".format(i,labels[i]) for i in range(NUM_CLASSES)]\n",
    "print(classification_report(y_true, predicted_classes, target_names=target_names))"
   ]
  }
 ],
 "metadata": {
  "kernelspec": {
   "display_name": "Python 3",
   "language": "python",
   "name": "python3"
  },
  "language_info": {
   "codemirror_mode": {
    "name": "ipython",
    "version": 3
   },
   "file_extension": ".py",
   "mimetype": "text/x-python",
   "name": "python",
   "nbconvert_exporter": "python",
   "pygments_lexer": "ipython3",
   "version": "3.6.5"
  }
 },
 "nbformat": 4,
 "nbformat_minor": 2
}
